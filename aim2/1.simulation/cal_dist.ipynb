{
 "cells": [
  {
   "cell_type": "code",
   "execution_count": 36,
   "metadata": {},
   "outputs": [],
   "source": [
    "import numpy as np\n",
    "import copy"
   ]
  },
  {
   "cell_type": "code",
   "execution_count": 37,
   "metadata": {},
   "outputs": [],
   "source": [
    "A_dist = np.load(\"A_dist_result.npy\")\n",
    "C_dist = np.load(\"C_dist_result.npy\")"
   ]
  },
  {
   "cell_type": "code",
   "execution_count": 38,
   "metadata": {},
   "outputs": [
    {
     "data": {
      "text/plain": [
       "array([ 6.79, 10.28,  4.79,  4.74,  1.92, 36.24,  2.24], dtype=float32)"
      ]
     },
     "execution_count": 38,
     "metadata": {},
     "output_type": "execute_result"
    }
   ],
   "source": [
    "A_dist.round(2)"
   ]
  },
  {
   "cell_type": "code",
   "execution_count": 41,
   "metadata": {},
   "outputs": [
    {
     "data": {
      "text/plain": [
       "array([0.53, 1.4 , 4.57, 0.  , 3.39, 0.63, 1.14])"
      ]
     },
     "execution_count": 41,
     "metadata": {},
     "output_type": "execute_result"
    }
   ],
   "source": [
    "C_dist.round(2)"
   ]
  },
  {
   "cell_type": "code",
   "execution_count": null,
   "metadata": {},
   "outputs": [],
   "source": []
  },
  {
   "cell_type": "code",
   "execution_count": 34,
   "metadata": {},
   "outputs": [],
   "source": [
    "A_esti = np.load(\"A_esti_result.npy\")\n",
    "C_esti = np.load(\"C_esti_result.npy\")"
   ]
  },
  {
   "cell_type": "code",
   "execution_count": 25,
   "metadata": {},
   "outputs": [
    {
     "data": {
      "text/plain": [
       "array([[[[-0.5696813 ,  0.01359357,  0.4755609 ],\n",
       "         [-0.23195508, -0.00732104,  0.3094718 ],\n",
       "         [-0.9143873 , -0.9548852 , -0.5025163 ]]],\n",
       "\n",
       "\n",
       "       [[[-0.79425293, -0.18338038, -1.6057466 ],\n",
       "         [-0.21645515,  0.48148865,  0.02663619],\n",
       "         [ 0.8684975 , -0.25905544, -0.2962885 ]]],\n",
       "\n",
       "\n",
       "       [[[ 0.435527  ,  0.6169542 ,  0.4950063 ],\n",
       "         [-0.47222316, -0.1798818 , -0.17089485],\n",
       "         [ 1.3347944 ,  0.00247648, -0.4244518 ]]],\n",
       "\n",
       "\n",
       "       [[[ 0.10527217,  0.42036688,  0.15610144],\n",
       "         [-0.6365484 ,  0.5623134 ,  0.4399983 ],\n",
       "         [ 1.0894613 , -0.29296038, -0.05248955]]],\n",
       "\n",
       "\n",
       "       [[[ 0.6895373 ,  0.7993525 ,  0.52918684],\n",
       "         [-1.3930272 , -0.09153878,  0.12867054],\n",
       "         [ 0.85805345, -0.48354468, -0.5126971 ]]],\n",
       "\n",
       "\n",
       "       [[[-0.06038045, -0.38808718,  0.93264586],\n",
       "         [ 0.24041946,  0.02262599,  0.10166792],\n",
       "         [ 0.7535015 ,  0.6492031 ,  0.07277396]]],\n",
       "\n",
       "\n",
       "       [[[ 0.20215295,  0.7141304 , -0.790326  ],\n",
       "         [-0.2795924 , -0.33754814,  0.05795155],\n",
       "         [-0.1145882 , -0.5575216 ,  0.07785737]]]], dtype=float32)"
      ]
     },
     "execution_count": 25,
     "metadata": {},
     "output_type": "execute_result"
    }
   ],
   "source": [
    "A_esti"
   ]
  },
  {
   "cell_type": "code",
   "execution_count": 35,
   "metadata": {},
   "outputs": [
    {
     "data": {
      "text/plain": [
       "array([[[-9.91675037e+01,  1.71432640e+02,  1.18250828e+03],\n",
       "        [ 0.00000000e+00,  0.00000000e+00,  0.00000000e+00]],\n",
       "\n",
       "       [[ 1.15356761e+02,  5.31467798e+02,  1.79617616e+01],\n",
       "        [ 0.00000000e+00,  0.00000000e+00,  0.00000000e+00]],\n",
       "\n",
       "       [[ 1.09800670e+02, -1.81716402e+02, -2.65410743e+02],\n",
       "        [ 0.00000000e+00,  0.00000000e+00,  0.00000000e+00]],\n",
       "\n",
       "       [[ 3.24083813e+03, -1.32598503e+03,  3.27014133e+00],\n",
       "        [ 0.00000000e+00,  0.00000000e+00,  0.00000000e+00]],\n",
       "\n",
       "       [[-1.15733249e+02,  1.50575664e+03, -1.25850310e+01],\n",
       "        [ 0.00000000e+00,  0.00000000e+00,  0.00000000e+00]],\n",
       "\n",
       "       [[ 2.14982538e+03, -2.82337247e+00,  1.55010399e+01],\n",
       "        [ 0.00000000e+00,  0.00000000e+00,  0.00000000e+00]],\n",
       "\n",
       "       [[ 7.58593766e+01,  1.54318928e+02, -1.69105241e+01],\n",
       "        [ 0.00000000e+00,  0.00000000e+00,  0.00000000e+00]],\n",
       "\n",
       "       [[-9.89998236e+01, -7.30256758e+01, -3.46470942e+01],\n",
       "        [ 0.00000000e+00,  0.00000000e+00,  0.00000000e+00]],\n",
       "\n",
       "       [[ 1.00000000e+00,  0.00000000e+00,  0.00000000e+00],\n",
       "        [ 0.00000000e+00,  0.00000000e+00,  0.00000000e+00]],\n",
       "\n",
       "       [[-2.45940613e+04, -1.15816481e+04, -7.11726718e+03],\n",
       "        [ 0.00000000e+00,  0.00000000e+00,  0.00000000e+00]],\n",
       "\n",
       "       [[ 2.31611125e+02,  1.70175484e+02,  1.25459236e+03],\n",
       "        [ 0.00000000e+00,  0.00000000e+00,  0.00000000e+00]],\n",
       "\n",
       "       [[-6.20157812e+03, -2.66689660e+03, -3.29474870e+03],\n",
       "        [ 0.00000000e+00,  0.00000000e+00,  0.00000000e+00]]])"
      ]
     },
     "execution_count": 35,
     "metadata": {},
     "output_type": "execute_result"
    }
   ],
   "source": [
    "C_esti"
   ]
  },
  {
   "cell_type": "code",
   "execution_count": 19,
   "metadata": {},
   "outputs": [
    {
     "data": {
      "text/plain": [
       "array([  3.268592 ,  70.82761  ,   3.0293539,   4.59608  ,  14.4142885,\n",
       "         2.214546 ,   4.2438726,   2.094254 , 189.73857  ,   2.6700838],\n",
       "      dtype=float32)"
      ]
     },
     "execution_count": 19,
     "metadata": {},
     "output_type": "execute_result"
    }
   ],
   "source": [
    "A_dist"
   ]
  },
  {
   "cell_type": "code",
   "execution_count": 17,
   "metadata": {},
   "outputs": [
    {
     "data": {
      "text/plain": [
       "array([0., 0., 0., 0., 0., 0., 0., 0., 0., 0.])"
      ]
     },
     "execution_count": 17,
     "metadata": {},
     "output_type": "execute_result"
    }
   ],
   "source": [
    "C_dist"
   ]
  },
  {
   "cell_type": "code",
   "execution_count": 9,
   "metadata": {},
   "outputs": [
    {
     "data": {
      "text/plain": [
       "array([[ 4.68276325e+09, -3.07792430e+09,  5.14261505e+10],\n",
       "       [ 0.00000000e+00,  0.00000000e+00,  0.00000000e+00]])"
      ]
     },
     "execution_count": 9,
     "metadata": {},
     "output_type": "execute_result"
    }
   ],
   "source": [
    "C_simu"
   ]
  },
  {
   "cell_type": "code",
   "execution_count": 8,
   "metadata": {},
   "outputs": [
    {
     "data": {
      "text/plain": [
       "array([[-0.10245468,  4.4950805 , -0.6321727 ],\n",
       "       [-0.08151823,  0.4734365 , -0.09669829],\n",
       "       [ 0.34073275,  1.8171802 , -2.7721198 ]], dtype=float32)"
      ]
     },
     "execution_count": 8,
     "metadata": {},
     "output_type": "execute_result"
    }
   ],
   "source": [
    "A_simu"
   ]
  },
  {
   "cell_type": "code",
   "execution_count": 3,
   "metadata": {},
   "outputs": [
    {
     "ename": "ValueError",
     "evalue": "Expected 2D array, got 1D array instead:\narray=[ 0.30249655 -0.08546965  1.2313422 ].\nReshape your data either using array.reshape(-1, 1) if your data has a single feature or array.reshape(1, -1) if it contains a single sample.",
     "output_type": "error",
     "traceback": [
      "\u001b[1;31m---------------------------------------------------------------------------\u001b[0m",
      "\u001b[1;31mValueError\u001b[0m                                Traceback (most recent call last)",
      "\u001b[1;32m<ipython-input-3-e2f212516dff>\u001b[0m in \u001b[0;36m<module>\u001b[1;34m\u001b[0m\n\u001b[0;32m      7\u001b[0m \u001b[0mC_norm\u001b[0m \u001b[1;33m=\u001b[0m \u001b[0mcopy\u001b[0m\u001b[1;33m.\u001b[0m\u001b[0mdeepcopy\u001b[0m\u001b[1;33m(\u001b[0m\u001b[0mC_simu\u001b[0m\u001b[1;33m)\u001b[0m\u001b[1;33m\u001b[0m\u001b[1;33m\u001b[0m\u001b[0m\n\u001b[0;32m      8\u001b[0m \u001b[1;32mfor\u001b[0m \u001b[0mi\u001b[0m \u001b[1;32min\u001b[0m \u001b[0mrange\u001b[0m\u001b[1;33m(\u001b[0m\u001b[0mlen\u001b[0m\u001b[1;33m(\u001b[0m\u001b[0mA_simu\u001b[0m\u001b[1;33m)\u001b[0m\u001b[1;33m)\u001b[0m\u001b[1;33m:\u001b[0m\u001b[1;33m\u001b[0m\u001b[1;33m\u001b[0m\u001b[0m\n\u001b[1;32m----> 9\u001b[1;33m     \u001b[0mA_norm\u001b[0m\u001b[1;33m[\u001b[0m\u001b[0mi\u001b[0m\u001b[1;33m]\u001b[0m \u001b[1;33m=\u001b[0m \u001b[0mnormalize\u001b[0m\u001b[1;33m(\u001b[0m\u001b[0mA_simu\u001b[0m\u001b[1;33m[\u001b[0m\u001b[0mi\u001b[0m\u001b[1;33m]\u001b[0m\u001b[1;33m)\u001b[0m\u001b[1;33m\u001b[0m\u001b[1;33m\u001b[0m\u001b[0m\n\u001b[0m\u001b[0;32m     10\u001b[0m     \u001b[0mC_norm\u001b[0m\u001b[1;33m[\u001b[0m\u001b[0mi\u001b[0m\u001b[1;33m]\u001b[0m \u001b[1;33m=\u001b[0m \u001b[0mnormalize\u001b[0m\u001b[1;33m(\u001b[0m\u001b[0mC_simu\u001b[0m\u001b[1;33m[\u001b[0m\u001b[0mi\u001b[0m\u001b[1;33m]\u001b[0m\u001b[1;33m)\u001b[0m\u001b[1;33m\u001b[0m\u001b[1;33m\u001b[0m\u001b[0m\n\u001b[0;32m     11\u001b[0m \u001b[1;33m\u001b[0m\u001b[0m\n",
      "\u001b[1;32mE:\\anaconda\\lib\\site-packages\\sklearn\\utils\\validation.py\u001b[0m in \u001b[0;36minner_f\u001b[1;34m(*args, **kwargs)\u001b[0m\n\u001b[0;32m     70\u001b[0m                           FutureWarning)\n\u001b[0;32m     71\u001b[0m         \u001b[0mkwargs\u001b[0m\u001b[1;33m.\u001b[0m\u001b[0mupdate\u001b[0m\u001b[1;33m(\u001b[0m\u001b[1;33m{\u001b[0m\u001b[0mk\u001b[0m\u001b[1;33m:\u001b[0m \u001b[0marg\u001b[0m \u001b[1;32mfor\u001b[0m \u001b[0mk\u001b[0m\u001b[1;33m,\u001b[0m \u001b[0marg\u001b[0m \u001b[1;32min\u001b[0m \u001b[0mzip\u001b[0m\u001b[1;33m(\u001b[0m\u001b[0msig\u001b[0m\u001b[1;33m.\u001b[0m\u001b[0mparameters\u001b[0m\u001b[1;33m,\u001b[0m \u001b[0margs\u001b[0m\u001b[1;33m)\u001b[0m\u001b[1;33m}\u001b[0m\u001b[1;33m)\u001b[0m\u001b[1;33m\u001b[0m\u001b[1;33m\u001b[0m\u001b[0m\n\u001b[1;32m---> 72\u001b[1;33m         \u001b[1;32mreturn\u001b[0m \u001b[0mf\u001b[0m\u001b[1;33m(\u001b[0m\u001b[1;33m**\u001b[0m\u001b[0mkwargs\u001b[0m\u001b[1;33m)\u001b[0m\u001b[1;33m\u001b[0m\u001b[1;33m\u001b[0m\u001b[0m\n\u001b[0m\u001b[0;32m     73\u001b[0m     \u001b[1;32mreturn\u001b[0m \u001b[0minner_f\u001b[0m\u001b[1;33m\u001b[0m\u001b[1;33m\u001b[0m\u001b[0m\n\u001b[0;32m     74\u001b[0m \u001b[1;33m\u001b[0m\u001b[0m\n",
      "\u001b[1;32mE:\\anaconda\\lib\\site-packages\\sklearn\\preprocessing\\_data.py\u001b[0m in \u001b[0;36mnormalize\u001b[1;34m(X, norm, axis, copy, return_norm)\u001b[0m\n\u001b[0;32m   1708\u001b[0m         \u001b[1;32mraise\u001b[0m \u001b[0mValueError\u001b[0m\u001b[1;33m(\u001b[0m\u001b[1;34m\"'%d' is not a supported axis\"\u001b[0m \u001b[1;33m%\u001b[0m \u001b[0maxis\u001b[0m\u001b[1;33m)\u001b[0m\u001b[1;33m\u001b[0m\u001b[1;33m\u001b[0m\u001b[0m\n\u001b[0;32m   1709\u001b[0m \u001b[1;33m\u001b[0m\u001b[0m\n\u001b[1;32m-> 1710\u001b[1;33m     X = check_array(X, accept_sparse=sparse_format, copy=copy,\n\u001b[0m\u001b[0;32m   1711\u001b[0m                     estimator='the normalize function', dtype=FLOAT_DTYPES)\n\u001b[0;32m   1712\u001b[0m     \u001b[1;32mif\u001b[0m \u001b[0maxis\u001b[0m \u001b[1;33m==\u001b[0m \u001b[1;36m0\u001b[0m\u001b[1;33m:\u001b[0m\u001b[1;33m\u001b[0m\u001b[1;33m\u001b[0m\u001b[0m\n",
      "\u001b[1;32mE:\\anaconda\\lib\\site-packages\\sklearn\\utils\\validation.py\u001b[0m in \u001b[0;36minner_f\u001b[1;34m(*args, **kwargs)\u001b[0m\n\u001b[0;32m     70\u001b[0m                           FutureWarning)\n\u001b[0;32m     71\u001b[0m         \u001b[0mkwargs\u001b[0m\u001b[1;33m.\u001b[0m\u001b[0mupdate\u001b[0m\u001b[1;33m(\u001b[0m\u001b[1;33m{\u001b[0m\u001b[0mk\u001b[0m\u001b[1;33m:\u001b[0m \u001b[0marg\u001b[0m \u001b[1;32mfor\u001b[0m \u001b[0mk\u001b[0m\u001b[1;33m,\u001b[0m \u001b[0marg\u001b[0m \u001b[1;32min\u001b[0m \u001b[0mzip\u001b[0m\u001b[1;33m(\u001b[0m\u001b[0msig\u001b[0m\u001b[1;33m.\u001b[0m\u001b[0mparameters\u001b[0m\u001b[1;33m,\u001b[0m \u001b[0margs\u001b[0m\u001b[1;33m)\u001b[0m\u001b[1;33m}\u001b[0m\u001b[1;33m)\u001b[0m\u001b[1;33m\u001b[0m\u001b[1;33m\u001b[0m\u001b[0m\n\u001b[1;32m---> 72\u001b[1;33m         \u001b[1;32mreturn\u001b[0m \u001b[0mf\u001b[0m\u001b[1;33m(\u001b[0m\u001b[1;33m**\u001b[0m\u001b[0mkwargs\u001b[0m\u001b[1;33m)\u001b[0m\u001b[1;33m\u001b[0m\u001b[1;33m\u001b[0m\u001b[0m\n\u001b[0m\u001b[0;32m     73\u001b[0m     \u001b[1;32mreturn\u001b[0m \u001b[0minner_f\u001b[0m\u001b[1;33m\u001b[0m\u001b[1;33m\u001b[0m\u001b[0m\n\u001b[0;32m     74\u001b[0m \u001b[1;33m\u001b[0m\u001b[0m\n",
      "\u001b[1;32mE:\\anaconda\\lib\\site-packages\\sklearn\\utils\\validation.py\u001b[0m in \u001b[0;36mcheck_array\u001b[1;34m(array, accept_sparse, accept_large_sparse, dtype, order, copy, force_all_finite, ensure_2d, allow_nd, ensure_min_samples, ensure_min_features, estimator)\u001b[0m\n\u001b[0;32m    617\u001b[0m             \u001b[1;31m# If input is 1D raise error\u001b[0m\u001b[1;33m\u001b[0m\u001b[1;33m\u001b[0m\u001b[1;33m\u001b[0m\u001b[0m\n\u001b[0;32m    618\u001b[0m             \u001b[1;32mif\u001b[0m \u001b[0marray\u001b[0m\u001b[1;33m.\u001b[0m\u001b[0mndim\u001b[0m \u001b[1;33m==\u001b[0m \u001b[1;36m1\u001b[0m\u001b[1;33m:\u001b[0m\u001b[1;33m\u001b[0m\u001b[1;33m\u001b[0m\u001b[0m\n\u001b[1;32m--> 619\u001b[1;33m                 raise ValueError(\n\u001b[0m\u001b[0;32m    620\u001b[0m                     \u001b[1;34m\"Expected 2D array, got 1D array instead:\\narray={}.\\n\"\u001b[0m\u001b[1;33m\u001b[0m\u001b[1;33m\u001b[0m\u001b[0m\n\u001b[0;32m    621\u001b[0m                     \u001b[1;34m\"Reshape your data either using array.reshape(-1, 1) if \"\u001b[0m\u001b[1;33m\u001b[0m\u001b[1;33m\u001b[0m\u001b[0m\n",
      "\u001b[1;31mValueError\u001b[0m: Expected 2D array, got 1D array instead:\narray=[ 0.30249655 -0.08546965  1.2313422 ].\nReshape your data either using array.reshape(-1, 1) if your data has a single feature or array.reshape(1, -1) if it contains a single sample."
     ]
    }
   ],
   "source": [
    "#load data\n",
    "A_simu = np.load(\"A_result4.npy\")\n",
    "C_simu = np.load(\"C_result4.npy\")\n",
    "\n",
    "#normalize data\n",
    "A_norm = copy.deepcopy(A_simu)\n",
    "C_norm = copy.deepcopy(C_simu)\n",
    "for i in range(len(A_simu)):\n",
    "    A_norm[i] = normalize(A_simu[i])\n",
    "    C_norm[i] = normalize(C_simu[i])\n",
    "\n",
    "A_gt = np.array([[-0.6, 0.7, -0.8], [-0.2, 0.3, 1.1], [0.2, -0.5, -0.5]])\n",
    "C_gt = np.array([[-0.4, 0, 0], [0, 0, 0]])\n",
    "A_gt_norm = normalize(A_gt)\n",
    "C_gt_norm = normalize(C_gt)"
   ]
  },
  {
   "cell_type": "code",
   "execution_count": 17,
   "metadata": {},
   "outputs": [
    {
     "data": {
      "text/plain": [
       "array([[-0.6,  0.7, -0.8],\n",
       "       [-0.2,  0.3,  1.1],\n",
       "       [ 0.2, -0.5, -0.5]])"
      ]
     },
     "execution_count": 17,
     "metadata": {},
     "output_type": "execute_result"
    }
   ],
   "source": [
    "A_gt"
   ]
  },
  {
   "cell_type": "code",
   "execution_count": 19,
   "metadata": {},
   "outputs": [
    {
     "data": {
      "text/plain": [
       "array([[-0.6 ,  1.  , -0.32],\n",
       "       [-0.09, -0.24, -0.09],\n",
       "       [ 0.21, -0.39,  0.03]], dtype=float32)"
      ]
     },
     "execution_count": 19,
     "metadata": {},
     "output_type": "execute_result"
    }
   ],
   "source": [
    "A_simu[10].round(2)"
   ]
  },
  {
   "cell_type": "code",
   "execution_count": 18,
   "metadata": {},
   "outputs": [
    {
     "data": {
      "text/plain": [
       "array([[-0.15322925, -0.04069975, -0.50912608],\n",
       "       [ 0.        ,  0.        ,  0.        ]])"
      ]
     },
     "execution_count": 18,
     "metadata": {},
     "output_type": "execute_result"
    }
   ],
   "source": [
    "C_simu[10]"
   ]
  },
  {
   "cell_type": "code",
   "execution_count": 13,
   "metadata": {},
   "outputs": [
    {
     "data": {
      "text/plain": [
       "array([[-0.19658057,  0.05102392,  0.9791591 ],\n",
       "       [-0.15293168,  0.069586  ,  0.98578376],\n",
       "       [-0.1851687 , -0.01829852, -0.9825364 ]], dtype=float32)"
      ]
     },
     "execution_count": 13,
     "metadata": {},
     "output_type": "execute_result"
    }
   ],
   "source": [
    "A_norm[0]"
   ]
  },
  {
   "cell_type": "code",
   "execution_count": 14,
   "metadata": {},
   "outputs": [
    {
     "data": {
      "text/plain": [
       "array([[-0.14770466, -0.02202011,  0.9887864 ],\n",
       "       [-0.03553669,  0.06669316,  0.9971405 ],\n",
       "       [ 0.05078509, -0.24902986, -0.9671634 ]], dtype=float32)"
      ]
     },
     "execution_count": 14,
     "metadata": {},
     "output_type": "execute_result"
    }
   ],
   "source": [
    "A_norm[29]"
   ]
  },
  {
   "cell_type": "code",
   "execution_count": 21,
   "metadata": {},
   "outputs": [
    {
     "data": {
      "text/plain": [
       "array([[-0.5 ,  0.83, -0.27],\n",
       "       [-0.34, -0.87, -0.34],\n",
       "       [ 0.47, -0.88,  0.07]], dtype=float32)"
      ]
     },
     "execution_count": 21,
     "metadata": {},
     "output_type": "execute_result"
    }
   ],
   "source": [
    "A_norm[10].round(2)"
   ]
  },
  {
   "cell_type": "code",
   "execution_count": 20,
   "metadata": {},
   "outputs": [
    {
     "data": {
      "text/plain": [
       "array([[-0.49,  0.57, -0.66],\n",
       "       [-0.17,  0.26,  0.95],\n",
       "       [ 0.27, -0.68, -0.68]])"
      ]
     },
     "execution_count": 20,
     "metadata": {},
     "output_type": "execute_result"
    }
   ],
   "source": [
    "A_gt_norm.round(2)"
   ]
  },
  {
   "cell_type": "code",
   "execution_count": null,
   "metadata": {},
   "outputs": [],
   "source": [
    "#generate data graph\n",
    "A_dist = []\n",
    "G2 = nx.from_numpy_matrix(A_gt_norm)\n",
    "for data in A_norm:\n",
    "    G1 = nx.from_numpy_matrix(data)\n",
    "\n",
    "    #then calculate adjancent matrix\n",
    "    A1, A2 = [nx.adjacency_matrix(G) for G in [G1,G2]]\n",
    "    \n",
    "    #calculate distance matrix\n",
    "    norm_dist = np.linalg.norm(A1 - A2)\n",
    "    spec_dist = nc.lambda_dist(A1, A2)\n",
    "    edit_dist = nc.edit_distance(A1, A2)\n",
    "    #netsmile_dist = nc.netsimile(A1, A2)\n",
    "\n",
    "    result = [norm_dist, spec_dist, edit_dist]\n",
    "    A_dist.append(result)"
   ]
  },
  {
   "cell_type": "code",
   "execution_count": null,
   "metadata": {},
   "outputs": [],
   "source": [
    "np.save(\"A_dist.npy\", A_dist)"
   ]
  },
  {
   "cell_type": "code",
   "execution_count": null,
   "metadata": {},
   "outputs": [],
   "source": [
    "C_dist = []\n",
    "G4 = nx.from_numpy_matrix(C_gt_norm)\n",
    "for data2 in C_norm:\n",
    "    G3 = nx.from_numpy_matrix(data2)\n",
    "\n",
    "    #then calculate adjancent matrix\n",
    "    A3, A4 = [nx.adjacency_matrix(G) for G in [G3, G4]]\n",
    "    \n",
    "    norm_dist2 = np.linalg.norm(A3 - A4)\n",
    "    spec_dist2 = nc.lambda_dist(A3, A4)\n",
    "    edit_dist2 = nc.edit_distance(A3, A4)\n",
    "    netsmile_dist2 = nc.netsimile(A3, A4)\n",
    "\n",
    "    result2 = [norm_dist2, spec_dist2, edit_dist2, netsmile_dist2]\n",
    "    C_dist.append(result2)\n",
    "\n",
    "\n",
    "np.save(\"C_dist.npy\", C_dist)"
   ]
  },
  {
   "cell_type": "code",
   "execution_count": 10,
   "metadata": {},
   "outputs": [],
   "source": [
    "AC_dist = np.load(\"AC_dist.npy\", allow_pickle= True)"
   ]
  },
  {
   "cell_type": "code",
   "execution_count": 19,
   "metadata": {},
   "outputs": [],
   "source": [
    "C_gt = np.array([[-0.4, 0, 0], [0, 0, 0]])"
   ]
  },
  {
   "cell_type": "code",
   "execution_count": 14,
   "metadata": {},
   "outputs": [],
   "source": [
    "C_result = np.load(\"C_result.npy\")"
   ]
  },
  {
   "cell_type": "code",
   "execution_count": 18,
   "metadata": {},
   "outputs": [
    {
     "data": {
      "text/plain": [
       "array([[ 1.        ,  0.05374411, -0.07694847],\n",
       "       [-0.        , -0.        , -0.        ]])"
      ]
     },
     "execution_count": 18,
     "metadata": {},
     "output_type": "execute_result"
    }
   ],
   "source": [
    "C_result[3]/C_result[3][0,0]"
   ]
  },
  {
   "cell_type": "code",
   "execution_count": 20,
   "metadata": {},
   "outputs": [
    {
     "data": {
      "text/plain": [
       "array([[ 1., -0., -0.],\n",
       "       [-0., -0., -0.]])"
      ]
     },
     "execution_count": 20,
     "metadata": {},
     "output_type": "execute_result"
    }
   ],
   "source": [
    "C_gt/-0.4"
   ]
  },
  {
   "cell_type": "code",
   "execution_count": 22,
   "metadata": {},
   "outputs": [],
   "source": [
    "A_result = np.load(\"A_result.npy\")"
   ]
  },
  {
   "cell_type": "code",
   "execution_count": 27,
   "metadata": {},
   "outputs": [
    {
     "data": {
      "text/plain": [
       "array([[ 1.        , -0.6179883 ,  0.5071678 ],\n",
       "       [ 0.4263735 ,  0.1005426 ,  0.09398197],\n",
       "       [-0.28833583,  0.03708019, -0.00269091]], dtype=float32)"
      ]
     },
     "execution_count": 27,
     "metadata": {},
     "output_type": "execute_result"
    }
   ],
   "source": [
    "A_result[14]/A_result[14][0,0]"
   ]
  },
  {
   "cell_type": "code",
   "execution_count": 24,
   "metadata": {},
   "outputs": [
    {
     "data": {
      "text/plain": [
       "array([[ 1.        , -0.9066843 ,  0.61314434],\n",
       "       [ 1.0320673 ,  0.3082426 , -0.3347908 ],\n",
       "       [-0.46646282,  0.60770065, -0.34581706]], dtype=float32)"
      ]
     },
     "execution_count": 24,
     "metadata": {},
     "output_type": "execute_result"
    }
   ],
   "source": [
    "A_result[12]/A_result[12][0,0]"
   ]
  },
  {
   "cell_type": "code",
   "execution_count": 25,
   "metadata": {},
   "outputs": [
    {
     "data": {
      "text/plain": [
       "array([[ 1. ,  0.4, -0.2],\n",
       "       [-0.5,  0.3,  1. ],\n",
       "       [ 0.2,  1. , -0.5]])"
      ]
     },
     "execution_count": 25,
     "metadata": {},
     "output_type": "execute_result"
    }
   ],
   "source": [
    "A_gt = np.array([[1.0, 0.4, -0.2], [-0.5, 0.3, 1.0], [0.2, 1, -0.5]])\n",
    "A_gt/A_gt[0,0]"
   ]
  },
  {
   "cell_type": "code",
   "execution_count": 11,
   "metadata": {},
   "outputs": [
    {
     "data": {
      "text/plain": [
       "array([3.68109379, 0.09385892])"
      ]
     },
     "execution_count": 11,
     "metadata": {},
     "output_type": "execute_result"
    }
   ],
   "source": [
    "AC_dist[3]"
   ]
  },
  {
   "cell_type": "code",
   "execution_count": 5,
   "metadata": {},
   "outputs": [
    {
     "name": "stdout",
     "output_type": "stream",
     "text": [
      "11.026989656387862\n",
      "-----\n",
      "0.14499600650845135\n",
      "=========\n",
      "11.68027278185689\n",
      "-----\n",
      "5.428112398193225\n",
      "=========\n",
      "2.9425771530012472\n",
      "-----\n",
      "0.9946839626183996\n",
      "=========\n",
      "3.6810937926995964\n",
      "-----\n",
      "0.09385891590498491\n",
      "=========\n",
      "2.459412437787328\n",
      "-----\n",
      "22.13200726313492\n",
      "=========\n",
      "5.920800572759732\n",
      "-----\n",
      "0.06564218541208666\n",
      "=========\n",
      "2.3522424670132915\n",
      "-----\n",
      "2.581519759130896\n",
      "=========\n",
      "80.80960245720497\n",
      "-----\n",
      "0.0773469660532532\n",
      "=========\n",
      "81.70910128442029\n",
      "-----\n",
      "30.983326476821865\n",
      "=========\n",
      "7.828000439898012\n",
      "-----\n",
      "2.326044412769087\n",
      "=========\n",
      "2.548358982012859\n",
      "-----\n",
      "3.3332427122462964\n",
      "=========\n",
      "11.764836183571926\n",
      "-----\n",
      "7.568096015515397\n",
      "=========\n",
      "2.330752501376978\n",
      "-----\n",
      "2.3403224579246196\n",
      "=========\n",
      "4.621665072547697\n",
      "-----\n",
      "6.131448740902832\n",
      "=========\n",
      "2.5303023490327994\n",
      "-----\n",
      "0.414567730975685\n",
      "=========\n",
      "2.786991540905349\n",
      "-----\n",
      "0.5262169091971931\n",
      "=========\n",
      "4.055419267864342\n",
      "-----\n",
      "0.5087016099168407\n",
      "=========\n",
      "12.19794087749299\n",
      "-----\n",
      "6.670048184865025\n",
      "=========\n",
      "105.58438015139706\n",
      "-----\n",
      "1.960065688387106\n",
      "=========\n",
      "2.7121355623714622\n",
      "-----\n",
      "6.583089484205761\n",
      "=========\n",
      "2.6072361219279987\n",
      "-----\n",
      "0.42746660154691796\n",
      "=========\n",
      "98.64702410113853\n",
      "-----\n",
      "0.2852463573824924\n",
      "=========\n",
      "2.6916998020766107\n",
      "-----\n",
      "1.1446415609696785\n",
      "=========\n",
      "11.094054168604716\n",
      "-----\n",
      "0.14977906716718067\n",
      "=========\n",
      "8.781629379984162\n",
      "-----\n",
      "4.459477901399733\n",
      "=========\n",
      "2.3620447713474766\n",
      "-----\n",
      "1.9229405915102609\n",
      "=========\n",
      "6.218290043657941\n",
      "-----\n",
      "1.3209921921472123\n",
      "=========\n",
      "41.075091077204725\n",
      "-----\n",
      "1.2118940758062169\n",
      "=========\n",
      "61.40789947471467\n",
      "-----\n",
      "0.6676635361366745\n",
      "=========\n",
      "12.465561666833455\n",
      "-----\n",
      "2.4124346501951877\n",
      "=========\n"
     ]
    }
   ],
   "source": [
    "for i in AC_dist:\n",
    "    print(i[0])\n",
    "    print(\"-----\")\n",
    "    print(i[1])\n",
    "    print(\"=========\")"
   ]
  },
  {
   "cell_type": "code",
   "execution_count": null,
   "metadata": {},
   "outputs": [],
   "source": []
  }
 ],
 "metadata": {
  "kernelspec": {
   "display_name": "Python 3",
   "language": "python",
   "name": "python3"
  },
  "language_info": {
   "codemirror_mode": {
    "name": "ipython",
    "version": 3
   },
   "file_extension": ".py",
   "mimetype": "text/x-python",
   "name": "python",
   "nbconvert_exporter": "python",
   "pygments_lexer": "ipython3",
   "version": "3.8.5"
  }
 },
 "nbformat": 4,
 "nbformat_minor": 4
}
